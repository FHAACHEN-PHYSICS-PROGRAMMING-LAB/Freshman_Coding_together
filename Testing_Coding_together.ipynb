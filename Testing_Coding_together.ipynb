{
 "cells": [
  {
   "cell_type": "markdown",
   "id": "102a5a42-53bb-42d1-a829-fbbfd96a5ec0",
   "metadata": {},
   "source": [
    "Dies ist ein Test, ob mehrere Leute gleichzeitig an dem Code arbeiten können."
   ]
  },
  {
   "cell_type": "markdown",
   "id": "b12aebe2-036a-4ca9-9965-0dc8cb91ba3d",
   "metadata": {},
   "source": [
    "Name:"
   ]
  },
  {
   "cell_type": "code",
   "execution_count": 1,
   "id": "0d6a3f22-69e7-4e08-a595-3879b2ea6986",
   "metadata": {
    "tags": []
   },
   "outputs": [],
   "source": [
    "#Code\n"
   ]
  },
  {
   "cell_type": "markdown",
   "id": "bddc55c7-331b-42f2-9d29-31f47ff88a92",
   "metadata": {},
   "source": [
    "Name:"
   ]
  },
  {
   "cell_type": "code",
   "execution_count": 2,
   "id": "13cc2f4c-c4e7-4f0c-9a07-f4328a200605",
   "metadata": {
    "tags": []
   },
   "outputs": [],
   "source": [
    "#Code\n"
   ]
  },
  {
   "cell_type": "markdown",
   "id": "b0903383-3fdb-4c94-8efa-5b93669a36a4",
   "metadata": {},
   "source": [
    "Name:"
   ]
  },
  {
   "cell_type": "code",
   "execution_count": 3,
   "id": "e9a6e484-a6cb-4b65-9b4a-94d0878ffeda",
   "metadata": {
    "tags": []
   },
   "outputs": [],
   "source": [
    "#Code\n"
   ]
  },
  {
   "cell_type": "code",
   "execution_count": null,
   "id": "6b6cf4a0-759b-40b6-bce0-4244a14750cd",
   "metadata": {},
   "outputs": [],
   "source": []
  }
 ],
 "metadata": {
  "kernelspec": {
   "display_name": "Python 3 (ipykernel)",
   "language": "python",
   "name": "python3"
  },
  "language_info": {
   "codemirror_mode": {
    "name": "ipython",
    "version": 3
   },
   "file_extension": ".py",
   "mimetype": "text/x-python",
   "name": "python",
   "nbconvert_exporter": "python",
   "pygments_lexer": "ipython3",
   "version": "3.9.7"
  }
 },
 "nbformat": 4,
 "nbformat_minor": 5
}
